{
 "cells": [
  {
   "cell_type": "code",
   "execution_count": 3,
   "metadata": {},
   "outputs": [],
   "source": [
    "import os\n",
    "from openslide import OpenSlide, open_slide, deepzoom\n",
    "import numpy as np\n",
    "from scipy import linalg\n",
    "import napari\n",
    "from skimage.io import imread\n",
    "from dask import delayed\n",
    "import dask.array as da\n",
    "#os.chdir(\"../..\")\n"
   ]
  },
  {
   "cell_type": "code",
   "execution_count": 2,
   "metadata": {},
   "outputs": [],
   "source": [
    "sm_path = \"D:/repos/swe22_final/sm.svs\"\n",
    "#slide = OpenSlide(sm_path)"
   ]
  },
  {
   "cell_type": "code",
   "execution_count": 4,
   "metadata": {},
   "outputs": [
    {
     "data": {
      "text/plain": [
       "<Image layer 'Image' at 0x1f8d2c632b0>"
      ]
     },
     "execution_count": 4,
     "metadata": {},
     "output_type": "execute_result"
    }
   ],
   "source": [
    "def svs2dask_array_pyramid(img, gen, level, tile_size=1000, overlap=0, remove_last=True, allow_unknown_chunksizes=False):\t\n",
    "\tmax_level = gen.level_count - 1 - 2 * level\n",
    "\tn_tiles_x, n_tiles_y = gen.level_tiles[max_level]\n",
    "\tget_tile = lambda level,i,j: np.array(gen.get_tile(level,(i,j))).transpose((1,0,2))\n",
    "\tsample_tile = get_tile(max_level,0,0)\n",
    "\tsample_tile_shape = sample_tile.shape\n",
    "\tdask_get_tile = delayed(get_tile, pure=True)\n",
    "\tarr = (da.concatenate([da.concatenate([da.from_delayed(dask_get_tile(max_level,i,j),sample_tile_shape,np.uint8) for j in range(n_tiles_y)],allow_unknown_chunksizes=allow_unknown_chunksizes,axis=1) for i in range(n_tiles_x )],allow_unknown_chunksizes=allow_unknown_chunksizes))#.transpose([1,0,2]))\n",
    "\n",
    "\treturn arr\n",
    "\n",
    "sm_path = \"D:/repos/swe22_final/sm.svs\"\n",
    "img=open_slide(sm_path)\n",
    "gen=deepzoom.DeepZoomGenerator(img)\n",
    "lvls = len(open_slide(sm_path).level_dimensions)\n",
    "viewer = napari.Viewer() \n",
    "viewer.add_image( [svs2dask_array_pyramid(img, gen, level) for level in range(lvls)], contrast_limits=[0,255])\n"
   ]
  },
  {
   "cell_type": "code",
   "execution_count": null,
   "metadata": {},
   "outputs": [],
   "source": []
  },
  {
   "cell_type": "code",
   "execution_count": null,
   "metadata": {},
   "outputs": [],
   "source": []
  },
  {
   "cell_type": "code",
   "execution_count": null,
   "metadata": {},
   "outputs": [],
   "source": [
    "img=open_slide(sm_path)\n",
    "gen=deepzoom.DeepZoomGenerator(img, tile_size=1000, overlap=0, limit_bounds=True)\n",
    "gen.level_dimensions"
   ]
  },
  {
   "cell_type": "code",
   "execution_count": null,
   "metadata": {},
   "outputs": [],
   "source": []
  },
  {
   "cell_type": "code",
   "execution_count": null,
   "metadata": {},
   "outputs": [],
   "source": []
  },
  {
   "cell_type": "code",
   "execution_count": null,
   "metadata": {},
   "outputs": [],
   "source": [
    "def getHEDfromRGB():\n",
    "    \n",
    "    # Conversion matrix for RGB-HED\n",
    "    \n",
    "    # Haematoxylin-Eosin-DAB colorspace\n",
    "    # From original Ruifrok's paper: A. C. Ruifrok and D. A. Johnston,\n",
    "    # \"Quantification of histochemical staining by color deconvolution,\"\n",
    "    # Analytical and quantitative cytology and histology / the International\n",
    "    # Academy of Cytology [and] American Society of Cytology, vol. 23, no. 4,\n",
    "    # pp. 291-9, Aug. 2001.\n",
    "    rgb_from_hed = np.array([[0.65, 0.70, 0.29],\n",
    "                            [0.07, 0.99, 0.11],\n",
    "                            [0.27, 0.57, 0.78]])\n",
    "    hed_from_rgb = linalg.inv(rgb_from_hed)\n",
    "\n",
    "    return\n"
   ]
  },
  {
   "cell_type": "code",
   "execution_count": null,
   "metadata": {},
   "outputs": [],
   "source": [
    "viewer = napari.Viewer()\n",
    "#t, c, z, y_slice, x_slice"
   ]
  }
 ],
 "metadata": {
  "interpreter": {
   "hash": "c059f2b875842476053c6b0cc88b8428d3db2b25f1539d42eb93fc2e108d9216"
  },
  "kernelspec": {
   "display_name": "Python 3.9.7 ('base')",
   "language": "python",
   "name": "python3"
  },
  "language_info": {
   "codemirror_mode": {
    "name": "ipython",
    "version": 3
   },
   "file_extension": ".py",
   "mimetype": "text/x-python",
   "name": "python",
   "nbconvert_exporter": "python",
   "pygments_lexer": "ipython3",
   "version": "3.9.7"
  },
  "orig_nbformat": 4
 },
 "nbformat": 4,
 "nbformat_minor": 2
}
