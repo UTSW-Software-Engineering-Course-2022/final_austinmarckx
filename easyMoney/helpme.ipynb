{
 "cells": [
  {
   "cell_type": "code",
   "execution_count": 4,
   "metadata": {},
   "outputs": [
    {
     "data": {
      "text/plain": [
       "<Labels layer 'labPy' at 0x17c8bc2df40>"
      ]
     },
     "execution_count": 4,
     "metadata": {},
     "output_type": "execute_result"
    }
   ],
   "source": [
    "\"\"\"\n",
    "This module is an example of a barebones numpy reader plugin for napari.\n",
    "\n",
    "It implements the Reader specification, but your plugin may choose to\n",
    "implement multiple readers or even other plugin contributions. see:\n",
    "https://napari.org/plugins/guides.html?#readers\n",
    "\"\"\"\n",
    "from functools import partial\n",
    "from openslide import OpenSlide, open_slide, deepzoom\n",
    "import numpy as np\n",
    "from scipy import linalg\n",
    "import dask.array as da\n",
    "from dask import delayed\n",
    "import napari\n",
    "\n",
    "def getHEDfromRGB(rgb):\n",
    "    # Conversion matrix for RGB-HED\n",
    "    rgb_from_hed = np.array([[0.65, 0.70, 0.29],\n",
    "                            [0.07, 0.99, 0.11],\n",
    "                            [0.27, 0.57, 0.78]])\n",
    "    hed_from_rgb = linalg.inv(rgb_from_hed)\n",
    "\n",
    "    # Modifying _prepare_colorarray and [0,255] -> [0,1]\n",
    "    rgb = da.asanyarray(rgb) / 255\n",
    "    # log artifiacts\n",
    "    da.maximum(rgb, 1E-6, out=rgb)\n",
    "    # Compensate sum\n",
    "    log_adjust = da.log(1E-6)\n",
    "    hed = (da.log(rgb)/log_adjust) @ hed_from_rgb\n",
    "    da.maximum(hed, 0, out=hed)\n",
    "    \n",
    "    return hed\n",
    "\n",
    "sm_path = \"D:/repos/swe22_final/sm.svs\"\n",
    "\n",
    "img = open_slide(sm_path)\n",
    "gen = deepzoom.DeepZoomGenerator(img, tile_size = 1000, overlap = 0, limit_bounds=False)\n",
    "levels = len(img.level_dimensions)\n",
    "\n",
    "allow_unknown_chunksizes=False\n",
    "\n",
    "imgPy = []\n",
    "labPy = []\n",
    "for level in range(levels):\n",
    "    max_level = gen.level_count - 1 - 2 * level\n",
    "    n_tiles_x, n_tiles_y = gen.level_tiles[max_level]\n",
    "    get_tile = lambda level,i,j: np.array(gen.get_tile(level,(i,j))).transpose((1,0,2))\n",
    "    sample_tile = get_tile(max_level,0,0)\n",
    "    sample_tile_shape = sample_tile.shape\n",
    "    dask_get_tile = delayed(get_tile, pure=True)\n",
    "    arr = (da.concatenate([da.concatenate([da.from_delayed(dask_get_tile(max_level,i,j),sample_tile_shape,np.uint8) for j in range(n_tiles_y)],allow_unknown_chunksizes=allow_unknown_chunksizes,axis=1) for i in range(n_tiles_x )],allow_unknown_chunksizes=allow_unknown_chunksizes))#.transpose([1,0,2]))\n",
    "\n",
    "    imgPy.append(arr)\n",
    "\n",
    "    if level == 0:\n",
    "        rgb = arr.copy()\n",
    "        hedarr = getHEDfromRGB(rgb)\n",
    "        # Do the thresholding\n",
    "        h_mask = hedarr[:,:,0]\n",
    "        h_mask[h_mask >= 0.042] = 1\n",
    "\n",
    "    else:\n",
    "        # If not zoomed in enough, no mask\n",
    "        h_mask = da.zeros(shape=arr[:,:,0].shape)\n",
    "    \n",
    "    labPy.append(h_mask.astype(\"uint8\"))\n",
    "\n",
    "\n",
    "# For now, ignore metadata\n",
    "add_kwargs = {}\n",
    "\n",
    "layer_type = \"image\"  # optional, default is \"image\"\n",
    "\n",
    "viewer = napari.Viewer()\n",
    "viewer.add_image(imgPy)\n",
    "viewer.add_labels(labPy)\n",
    "\n"
   ]
  }
 ],
 "metadata": {
  "interpreter": {
   "hash": "c059f2b875842476053c6b0cc88b8428d3db2b25f1539d42eb93fc2e108d9216"
  },
  "kernelspec": {
   "display_name": "Python 3.9.7 ('base')",
   "language": "python",
   "name": "python3"
  },
  "language_info": {
   "codemirror_mode": {
    "name": "ipython",
    "version": 3
   },
   "file_extension": ".py",
   "mimetype": "text/x-python",
   "name": "python",
   "nbconvert_exporter": "python",
   "pygments_lexer": "ipython3",
   "version": "3.9.7"
  },
  "orig_nbformat": 4
 },
 "nbformat": 4,
 "nbformat_minor": 2
}
