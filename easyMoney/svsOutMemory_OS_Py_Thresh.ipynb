{
 "cells": [
  {
   "cell_type": "code",
   "execution_count": 7,
   "metadata": {},
   "outputs": [],
   "source": [
    "import os\n",
    "from openslide import OpenSlide, open_slide, deepzoom\n",
    "import numpy as np\n",
    "from scipy import linalg\n",
    "import napari\n",
    "from skimage.util import img_as_float64\n",
    "from dask import delayed\n",
    "import dask.array as da\n",
    "#os.chdir(\"../..\")\n",
    "\n",
    "from skimage.measure import label"
   ]
  },
  {
   "cell_type": "code",
   "execution_count": 8,
   "metadata": {},
   "outputs": [],
   "source": [
    "def getHEDfromRGB(rgb):\n",
    "    # Conversion matrix for RGB-HED\n",
    "    rgb_from_hed = np.array([[0.65, 0.70, 0.29],\n",
    "                            [0.07, 0.99, 0.11],\n",
    "                            [0.27, 0.57, 0.78]])\n",
    "    hed_from_rgb = linalg.inv(rgb_from_hed)\n",
    "\n",
    "    # Modifying _prepare_colorarray and [0,255] -> [0,1]\n",
    "    rgb = da.asanyarray(rgb) / 255\n",
    "    # log artifiacts\n",
    "    da.maximum(rgb, 1E-6, out=rgb)\n",
    "    # Compensate sum\n",
    "    log_adjust = da.log(1E-6)\n",
    "    hed = (da.log(rgb)/log_adjust) @ hed_from_rgb\n",
    "    da.maximum(hed, 0, out=hed)\n",
    "\n",
    "    # Do the thresholding\n",
    "    h_mask = hed[:,:,0]\n",
    "    h_mask[h_mask >= 0.042] = 1\n",
    "    h_mask.astype(\"uint8\")\n",
    "    return da.asanyarray(h_mask)\n"
   ]
  },
  {
   "cell_type": "code",
   "execution_count": 9,
   "metadata": {},
   "outputs": [
    {
     "data": {
      "text/plain": [
       "<Labels layer 'Labels' at 0x1352c35d130>"
      ]
     },
     "execution_count": 9,
     "metadata": {},
     "output_type": "execute_result"
    }
   ],
   "source": [
    "def svs2dask_label_pyramid(img, gen, level, tile_size=1000, overlap=0, remove_last=True, allow_unknown_chunksizes=False):\t\n",
    "\tmax_level = gen.level_count - 1 - 2 * level\n",
    "\tn_tiles_x, n_tiles_y = gen.level_tiles[max_level]\n",
    "\tget_tile = lambda level,i,j: np.array(gen.get_tile(level,(i,j))).transpose((1,0,2))\n",
    "\tsample_tile = get_tile(max_level,0,0)\n",
    "\tsample_tile_shape = sample_tile.shape\n",
    "\tdask_get_tile = delayed(get_tile, pure=True)\n",
    "\tarr = (da.concatenate([da.concatenate([da.from_delayed(dask_get_tile(max_level,i,j),sample_tile_shape,np.uint8) for j in range(n_tiles_y)],allow_unknown_chunksizes=allow_unknown_chunksizes,axis=1) for i in range(n_tiles_x )],allow_unknown_chunksizes=allow_unknown_chunksizes))#.transpose([1,0,2]))\n",
    "\n",
    "\tif level == 0:\n",
    "\t\thedarr = getHEDfromRGB(arr)\n",
    "\telse:\n",
    "\t\t# If not zoomed in enough, no mask\n",
    "\t\thedarr = da.zeros(shape=arr[:,:,0].shape)\n",
    "\n",
    "\treturn hedarr\n",
    "\n",
    "def svs2dask_array_pyramid(img, gen, level, tile_size=1000, overlap=0, remove_last=True, allow_unknown_chunksizes=False):\t\n",
    "\tmax_level = gen.level_count - 1 - 2 * level\n",
    "\tn_tiles_x, n_tiles_y = gen.level_tiles[max_level]\n",
    "\tget_tile = lambda level,i,j: np.array(gen.get_tile(level,(i,j))).transpose((1,0,2))\n",
    "\tsample_tile = get_tile(max_level,0,0)\n",
    "\tsample_tile_shape = sample_tile.shape\n",
    "\tdask_get_tile = delayed(get_tile, pure=True)\n",
    "\tarr = (da.concatenate([da.concatenate([da.from_delayed(dask_get_tile(max_level,i,j),sample_tile_shape,np.uint8) for j in range(n_tiles_y)],allow_unknown_chunksizes=allow_unknown_chunksizes,axis=1) for i in range(n_tiles_x )],allow_unknown_chunksizes=allow_unknown_chunksizes))#.transpose([1,0,2]))\n",
    "\n",
    "\treturn arr\n",
    "\n",
    "\n",
    "\n",
    "sm_path = \"D:/repos/swe22_final/sm.svs\"\n",
    "img=open_slide(sm_path)\n",
    "gen=deepzoom.DeepZoomGenerator(img)\n",
    "lvls = len(open_slide(sm_path).level_dimensions)\n",
    "viewer = napari.Viewer() \n",
    "\n",
    "#imgPy = [svs2dask_array_pyramid(img, gen, level) for level in range(lvls)]\n",
    "\n",
    "viewer.add_image([svs2dask_array_pyramid(img, gen, level) for level in range(lvls)], contrast_limits=[0,255])\n",
    "viewer.add_labels([svs2dask_label_pyramid(img, gen, level).astype(\"uint8\") for level in range(lvls)], seed = 0.05)\n"
   ]
  },
  {
   "cell_type": "code",
   "execution_count": null,
   "metadata": {},
   "outputs": [],
   "source": []
  },
  {
   "cell_type": "code",
   "execution_count": null,
   "metadata": {},
   "outputs": [],
   "source": []
  },
  {
   "cell_type": "code",
   "execution_count": 10,
   "metadata": {},
   "outputs": [
    {
     "data": {
      "text/plain": [
       "((1, 1),\n",
       " (1, 2),\n",
       " (2, 3),\n",
       " (4, 5),\n",
       " (8, 10),\n",
       " (16, 20),\n",
       " (32, 39),\n",
       " (64, 77),\n",
       " (128, 154),\n",
       " (255, 308),\n",
       " (510, 615),\n",
       " (1020, 1229),\n",
       " (2040, 2458),\n",
       " (4080, 4916),\n",
       " (8160, 9832),\n",
       " (16320, 19664),\n",
       " (32639, 39328))"
      ]
     },
     "execution_count": 10,
     "metadata": {},
     "output_type": "execute_result"
    }
   ],
   "source": [
    "img=open_slide(sm_path)\n",
    "gen=deepzoom.DeepZoomGenerator(img, tile_size=1000, overlap=0, limit_bounds=True)\n",
    "gen.level_dimensions"
   ]
  },
  {
   "cell_type": "code",
   "execution_count": null,
   "metadata": {},
   "outputs": [],
   "source": []
  },
  {
   "cell_type": "code",
   "execution_count": null,
   "metadata": {},
   "outputs": [],
   "source": []
  },
  {
   "cell_type": "code",
   "execution_count": null,
   "metadata": {},
   "outputs": [],
   "source": []
  },
  {
   "cell_type": "code",
   "execution_count": 11,
   "metadata": {},
   "outputs": [
    {
     "ename": "",
     "evalue": "",
     "output_type": "error",
     "traceback": [
      "\u001b[1;31mThe Kernel crashed while executing code in the the current cell or a previous cell. Please review the code in the cell(s) to identify a possible cause of the failure. Click <a href='https://aka.ms/vscodeJupyterKernelCrash'>here</a> for more info. View Jupyter <a href='command:jupyter.viewOutput'>log</a> for further details."
     ]
    }
   ],
   "source": [
    "viewer = napari.Viewer()\n",
    "#t, c, z, y_slice, x_slice"
   ]
  }
 ],
 "metadata": {
  "interpreter": {
   "hash": "c059f2b875842476053c6b0cc88b8428d3db2b25f1539d42eb93fc2e108d9216"
  },
  "kernelspec": {
   "display_name": "Python 3.9.7 ('base')",
   "language": "python",
   "name": "python3"
  },
  "language_info": {
   "codemirror_mode": {
    "name": "ipython",
    "version": 3
   },
   "file_extension": ".py",
   "mimetype": "text/x-python",
   "name": "python",
   "nbconvert_exporter": "python",
   "pygments_lexer": "ipython3",
   "version": "3.9.7"
  },
  "orig_nbformat": 4
 },
 "nbformat": 4,
 "nbformat_minor": 2
}
